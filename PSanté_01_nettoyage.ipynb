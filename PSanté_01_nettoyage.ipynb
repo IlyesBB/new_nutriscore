{
 "cells": [
  {
   "cell_type": "markdown",
   "id": "09acdb53",
   "metadata": {},
   "source": [
    "## Idée d'application"
   ]
  },
  {
   "cell_type": "markdown",
   "id": "2cd21d88",
   "metadata": {},
   "source": [
    "On va essayer de poser les bases d'une application permettant de proposer des **alternatives à un produit alimentaire**. Ces alternatives doivent être meilleures pour la santé."
   ]
  },
  {
   "cell_type": "code",
   "execution_count": 1,
   "id": "909faae0",
   "metadata": {},
   "outputs": [],
   "source": [
    "import pandas as pd\n",
    "import missingno as msno\n",
    "import re\n",
    "import numpy as np\n",
    "import matplotlib.pyplot as plt\n",
    "from sklearn.model_selection import train_test_split\n",
    "from sklearn import neighbors\n",
    "from sklearn.linear_model import BayesianRidge\n",
    "from sklearn.tree import DecisionTreeRegressor, DecisionTreeClassifier"
   ]
  },
  {
   "cell_type": "code",
   "execution_count": 2,
   "id": "f69cd0fb",
   "metadata": {},
   "outputs": [
    {
     "name": "stderr",
     "output_type": "stream",
     "text": [
      "/home/ilyes/.local/lib/python3.9/site-packages/IPython/core/interactiveshell.py:3441: DtypeWarning: Columns (0,8,13,27,28,29,31,38,52,55,64,75,77) have mixed types.Specify dtype option on import or set low_memory=False.\n",
      "  exec(code_obj, self.user_global_ns, self.user_ns)\n"
     ]
    }
   ],
   "source": [
    "data = pd.read_csv('en.openfoodfacts.org.products.csv', sep=\"\\t\")"
   ]
  },
  {
   "cell_type": "markdown",
   "id": "50900b92",
   "metadata": {},
   "source": [
    "# Introduction"
   ]
  },
  {
   "cell_type": "code",
   "execution_count": 3,
   "id": "182eac4e",
   "metadata": {},
   "outputs": [
    {
     "name": "stdout",
     "output_type": "stream",
     "text": [
      "La base de données de Open Food Facts contient:\n",
      "- 1908859 produits\n",
      "- 186 colonnes\n",
      "- 270 doublons\n",
      "- 0 valeurs vides\n"
     ]
    }
   ],
   "source": [
    "print(\"La base de données de Open Food Facts contient:\\n- %d produits\" % len(data))\n",
    "print(\"- %d colonnes\" % len(data.columns))\n",
    "# La clé primaire est 'code', on l'utilise pour détecter les doublons\n",
    "# nb_doublons: Va contenir le nombre de doublons dans data\n",
    "nb_doublons = len(data)-len(data.drop_duplicates(subset=['code']))\n",
    "print(\"- %d doublons\" % nb_doublons)\n",
    "print(\"- %d valeurs vides\" % (len(data)-data['code'].count()))"
   ]
  },
  {
   "cell_type": "markdown",
   "id": "bc82b9f9",
   "metadata": {},
   "source": [
    "# Nettoyage préliminaire"
   ]
  },
  {
   "cell_type": "markdown",
   "id": "ff97f161",
   "metadata": {},
   "source": [
    "## Supression des doublons"
   ]
  },
  {
   "cell_type": "code",
   "execution_count": 4,
   "id": "87fac7ab",
   "metadata": {},
   "outputs": [],
   "source": [
    "data = data.drop_duplicates(subset=['code'])"
   ]
  },
  {
   "cell_type": "markdown",
   "id": "97340965",
   "metadata": {},
   "source": [
    "## Correction des erreurs de casse"
   ]
  },
  {
   "cell_type": "code",
   "execution_count": 5,
   "id": "6efe2a6d",
   "metadata": {},
   "outputs": [],
   "source": [
    "cols_categs = ['main_category_en', 'pnns_groups_2', 'pnns_groups_1']"
   ]
  },
  {
   "cell_type": "code",
   "execution_count": 6,
   "id": "65ef78c7",
   "metadata": {},
   "outputs": [],
   "source": [
    "for col_categ in cols_categs:\n",
    "    data[col_categ] = data[col_categ].str.lower()\n",
    "data['countries_en'] = data['countries_en'].str.lower()"
   ]
  },
  {
   "cell_type": "markdown",
   "id": "9fd523e3",
   "metadata": {},
   "source": [
    "## Correction des noms de colonnes"
   ]
  },
  {
   "cell_type": "code",
   "execution_count": 7,
   "id": "9d46ccf0",
   "metadata": {},
   "outputs": [],
   "source": [
    "data.columns = data.columns.str.lower()"
   ]
  },
  {
   "cell_type": "markdown",
   "id": "3da20860",
   "metadata": {},
   "source": [
    "On enlève les tirets au début des noms de colonnes:"
   ]
  },
  {
   "cell_type": "code",
   "execution_count": 8,
   "id": "753785ef",
   "metadata": {},
   "outputs": [],
   "source": [
    "# sans_tiret_dep: Fonction enlevant le tiret au début d'un string s'il y en à.\n",
    "sans_tiret_dep = lambda x: x[1:] if re.search(\"^-\", x) else x\n",
    "# On applique cette fonction aux noms de colonnes de data.\n",
    "data.columns = data.columns.map(sans_tiret_dep)"
   ]
  },
  {
   "cell_type": "markdown",
   "id": "a8d78a74",
   "metadata": {},
   "source": [
    "## Premiers filtrages des données"
   ]
  },
  {
   "cell_type": "markdown",
   "id": "ef25e191",
   "metadata": {},
   "source": [
    "On s'intéresse uniquement aux pays dont on a les catégories."
   ]
  },
  {
   "cell_type": "code",
   "execution_count": 9,
   "id": "ec5f3118",
   "metadata": {},
   "outputs": [
    {
     "name": "stdout",
     "output_type": "stream",
     "text": [
      "Il y à 901345 produits dont on a la catégorie\n",
      "On a les catégories en anglais pour 812217 d'entre eux\n"
     ]
    }
   ],
   "source": [
    "# data: Va contenir les pays dont on a les catégories en anglais.\n",
    "data = data.dropna(subset=['categories_en'])\n",
    "print(\"Il y à %d produits dont on a la catégorie\" % len(data))\n",
    "# Lorsqu'il y à le caractère ':' dans un champ de 'categories_en', alors une catégorie n'est pas en anglais\n",
    "data = data[~data['categories_en'].str.contains(\":\")]\n",
    "print(\"On a les catégories en anglais pour %d d'entre eux\" % len(data))"
   ]
  },
  {
   "cell_type": "markdown",
   "id": "10f40b1b",
   "metadata": {},
   "source": [
    "On veux aussi les codes barre des produits"
   ]
  },
  {
   "cell_type": "code",
   "execution_count": 10,
   "id": "349564f1",
   "metadata": {},
   "outputs": [
    {
     "name": "stdout",
     "output_type": "stream",
     "text": [
      "Il y à 812217 produits dont on a le code barre\n"
     ]
    }
   ],
   "source": [
    "data = data.dropna(subset=['code'])\n",
    "print(\"Il y à %d produits dont on a le code barre\" % len(data))"
   ]
  },
  {
   "cell_type": "markdown",
   "id": "9930475a",
   "metadata": {},
   "source": [
    "Sélections les colonnes pour lesquelles au moins 30% des données remplies."
   ]
  },
  {
   "cell_type": "code",
   "execution_count": 11,
   "id": "5a0815b3",
   "metadata": {},
   "outputs": [
    {
     "name": "stdout",
     "output_type": "stream",
     "text": [
      "131 colonnes contiennent moins de 270739 données\n",
      "Colonnes restantes et quantité de données associées\n",
      "brand_owner                                283210\n",
      "quantity                                   297951\n",
      "additives_tags                             318689\n",
      "additives_en                               318689\n",
      "image_ingredients_small_url                356418\n",
      "image_ingredients_url                      356418\n",
      "image_nutrition_small_url                  357208\n",
      "image_nutrition_url                        357208\n",
      "fiber_100g                                 385743\n",
      "serving_quantity                           397338\n",
      "serving_size                               400971\n",
      "ecoscore_grade_fr                          411063\n",
      "ecoscore_score_fr                          411063\n",
      "nova_group                                 509024\n",
      "image_url                                  515775\n",
      "image_small_url                            515775\n",
      "ingredients_that_may_be_from_palm_oil_n    545276\n",
      "ingredients_text                           545276\n",
      "additives_n                                545276\n",
      "ingredients_from_palm_oil_n                545276\n",
      "brands_tags                                567700\n",
      "brands                                     567723\n",
      "nutriscore_grade                           632193\n",
      "nutriscore_score                           632193\n",
      "nutrition-score-fr_100g                    632198\n",
      "saturated-fat_100g                         678527\n",
      "energy-kcal_100g                           681934\n",
      "sugars_100g                                701048\n",
      "sodium_100g                                708190\n",
      "salt_100g                                  708191\n",
      "carbohydrates_100g                         717169\n",
      "proteins_100g                              717497\n",
      "fat_100g                                   717684\n",
      "energy_100g                                718182\n",
      "product_name                               805306\n",
      "countries_en                               810776\n",
      "countries_tags                             810776\n",
      "countries                                  810779\n",
      "creator                                    812214\n",
      "pnns_groups_1                              812216\n",
      "url                                        812217\n",
      "created_t                                  812217\n",
      "last_modified_datetime                     812217\n",
      "last_modified_t                            812217\n",
      "main_category_en                           812217\n",
      "main_category                              812217\n",
      "categories                                 812217\n",
      "categories_tags                            812217\n",
      "categories_en                              812217\n",
      "states_en                                  812217\n",
      "states_tags                                812217\n",
      "states                                     812217\n",
      "pnns_groups_2                              812217\n",
      "created_datetime                           812217\n",
      "code                                       812217\n",
      "dtype: int64\n"
     ]
    }
   ],
   "source": [
    "# data_count: Résultat de la méthode count appliquée à data\n",
    "data_count = data.count()\n",
    "# cols_few_data: Colonnes remplies pour moins de 30% des individus\n",
    "cols_few_data = data_count[data_count < int(len(data)/3)].index\n",
    "print(\"%d colonnes contiennent moins de %d données\" % (len(cols_few_data), int(len(data)/3)))\n",
    "# On supprime ces colonnes de data\n",
    "data = data.drop(columns=cols_few_data)\n",
    "print(\"Colonnes restantes et quantité de données associées\")\n",
    "print(data_count.drop(labels=cols_few_data).sort_values())"
   ]
  },
  {
   "cell_type": "markdown",
   "id": "929ea026",
   "metadata": {},
   "source": [
    "On remarque qu'on a trop peu de données en ce qui concerne la proportion de fruits et légumes pour la colonne ait été gardée. Cependant, même si c'est trop complexe pour le faire ici, une solution aurait pu être d'extraire ces information de la liste textuelle des ingrédients."
   ]
  },
  {
   "cell_type": "markdown",
   "id": "e187c0a9",
   "metadata": {},
   "source": [
    "## Correction des types des colonnes\n",
    "Toutes les colonnes finissant par '_100g', ainsi que certaines autres ont des valeurs flottantes. Toutes les autres contiennent des chaînes de caractères."
   ]
  },
  {
   "cell_type": "code",
   "execution_count": 12,
   "id": "559aa26a",
   "metadata": {},
   "outputs": [],
   "source": [
    "# cols_quantity: Colonnes des valeurs nutritionnelles\n",
    "cols_quantity = data.columns[data.columns.str.match('.+_100g$')]\n",
    "# cols_quantity2: Autres colonnes quantitatives\n",
    "cols_quantity2 = pd.Index(['additives_n', 'ingredients_from_palm_oil_n', 'ecoscore_score_fr', \n",
    "                           'serving_quantity', 'nova_group'])\n",
    "# cols_quantity: Concatétation de toutes les colonnes quantitatives étudiées\n",
    "cols_quantity = cols_quantity.append(cols_quantity2)\n",
    "# Cast en flottant des variables quantitatives\n",
    "for col_quantity in cols_quantity:\n",
    "    data[col_quantity] = data[col_quantity].astype(float)\n",
    "# cols_quality: Colonnes des variables qualitatives\n",
    "cols_quality = data.columns[~data.columns.isin(cols_quantity)]\n",
    "\n",
    "for col_quality in cols_quality:\n",
    "    # Cast en string des variables qualitatives\n",
    "    data[col_quality] = data[col_quality].astype(str)\n",
    "    # On vérifie qu'il n'y à pas d'erreurs de casse\n",
    "    data[col_quality] = data[col_quality].str.lower()"
   ]
  },
  {
   "cell_type": "markdown",
   "id": "806ad87e",
   "metadata": {},
   "source": [
    "## Suppression des valeurs aberrantes"
   ]
  },
  {
   "cell_type": "markdown",
   "id": "cd955265",
   "metadata": {},
   "source": [
    "### Valeurs nutritionnelles"
   ]
  },
  {
   "cell_type": "markdown",
   "id": "1b087b31",
   "metadata": {},
   "source": [
    "Les valeurs nutritionnelles sont remplies pour 100g de produits. Chacun des comosant doit donc avoir une quantité comprise en 0 et 100g."
   ]
  },
  {
   "cell_type": "code",
   "execution_count": 13,
   "id": "6801a4ce",
   "metadata": {},
   "outputs": [
    {
     "name": "stdout",
     "output_type": "stream",
     "text": [
      "443 produits ont des valeurs nutritionnelles aberrantes\n"
     ]
    }
   ],
   "source": [
    "# cols_100g: Colonnes des variables nutritionnelles /100g\n",
    "cols_100g = data.columns[data.columns.str.match('.+_100g$')]\n",
    "# not_in_100g: Colonnes des variables qui ne sont pas des quantité physiques\n",
    "not_in_100g = ['nutrition-score-fr_100g', 'energy_100g', 'energy-kcal_100g', 'serving_quantity']\n",
    "cols_100g = cols_100g.difference(pd.Index(not_in_100g))\n",
    "# len_data: Taille de data avant suppression des valeurs aberrantes\n",
    "len_data = len(data)\n",
    "# col: Un nom de colonne dans cols_100g\n",
    "for col in cols_100g:\n",
    "    # Sélection des quantités entre 0 et 100g et les quantités non-définies\n",
    "    data = data[((data[col] >= 0.) & (data[col] <= 100.))| data[col].isna()]\n",
    "print(\"%d produits ont des valeurs nutritionnelles aberrantes\" % (len_data-len(data)))"
   ]
  },
  {
   "cell_type": "markdown",
   "id": "001fd50a",
   "metadata": {},
   "source": [
    "### Valeurs énergétiques"
   ]
  },
  {
   "cell_type": "markdown",
   "id": "4ecf9f2a",
   "metadata": {},
   "source": [
    "Tous les produits n'ayant aucune valeur énergétique ne peuvent contenir de sucres, de gras, de protéïnes ou de fibres. Les produits dont les valeurs sont incohérentes sont supprimés."
   ]
  },
  {
   "cell_type": "code",
   "execution_count": 14,
   "id": "088277b9",
   "metadata": {},
   "outputs": [
    {
     "name": "stdout",
     "output_type": "stream",
     "text": [
      "568 produits ont des valeurs énergétiques aberrantes\n"
     ]
    }
   ],
   "source": [
    "# cond1 : Vraie si le produit a une valeur énergétique non négligeable\n",
    "cond1 = data['energy-kcal_100g'] > 1\n",
    "# cond2: Vraie si le produit ne contient pas de gras, de sucre, de protéïnes, de fibres alimentaires ou de carbohydrates.\n",
    "cond2 = (data['sugars_100g'] == 0.) & (data['fat_100g'] == 0.) & (data['proteins_100g'] == 0.)\n",
    "cond2 = cond2 & (data['fiber_100g'] == 0.) & (data['carbohydrates_100g'] == 0)\n",
    "print(\"%d produits ont des valeurs énergétiques aberrantes\" % len(data[cond1 & cond2]))\n",
    "# On supprime les produits vérifiant les 2 conditions citées ci-dessus.\n",
    "data = data[~(cond1 & cond2)]"
   ]
  },
  {
   "cell_type": "code",
   "execution_count": 15,
   "id": "c3ef4a3d",
   "metadata": {},
   "outputs": [
    {
     "name": "stdout",
     "output_type": "stream",
     "text": [
      "3728 produits ont des valeurs énergétiques aberrantes\n"
     ]
    }
   ],
   "source": [
    "# cond1 : Vraie si le produit a une valeur énergétique nulle\n",
    "cond1 = data['energy-kcal_100g'] == 0\n",
    "# cond2: Vraie si le produit contient du gras, du sucre, des protéïnes, des fibres alimentaires ou des carhbohydrates.\n",
    "cond2 = (data['sugars_100g'] > 0.) | (data['fat_100g'] > 0.) | (data['proteins_100g'] > 0.)\n",
    "cond2 = cond2 | (data['fiber_100g'] > 0.) | (data['carbohydrates_100g'] > 0.)\n",
    "print(\"%d produits ont des valeurs énergétiques aberrantes\" % len(data[cond1 & cond2]))\n",
    "# On supprime les produits vérifiant les 2 conditions citées ci-dessus.\n",
    "data = data[~(cond1 & cond2)]"
   ]
  },
  {
   "cell_type": "markdown",
   "id": "508c559b",
   "metadata": {},
   "source": [
    "Tous les aliments contenant plus de 1000 kcal pour 100g sont aussi supprimés car ils dépassent la concentration calorique maximale possibles (huiles ~ 900kcal/100g)"
   ]
  },
  {
   "cell_type": "code",
   "execution_count": 16,
   "id": "b2263891",
   "metadata": {},
   "outputs": [
    {
     "name": "stdout",
     "output_type": "stream",
     "text": [
      "891 produits dépassent la limite de concentration calorique possible\n"
     ]
    }
   ],
   "source": [
    "len_data = len(data)  # On enregistre la taille de la base de données pour voir la différence après filtrage\n",
    "# kcal_max_100g: Concentration calorique maximale\n",
    "kcal_max_100g = 1000  \n",
    "# On garde les valeurs caloriques inférieures au maximum ou les valeurs caloriques non définies\n",
    "data = data[(data['energy-kcal_100g'] < kcal_max_100g) | (data['energy-kcal_100g'].isna())]\n",
    "print(\"%d produits dépassent la limite de concentration calorique possible\" % (len_data-len(data)))"
   ]
  },
  {
   "cell_type": "markdown",
   "id": "fb0b4d12",
   "metadata": {},
   "source": [
    "### Quantité servie\n",
    "Les quantités servies ne peuvent être nulles, ni dépasser une certaine valeur. Les produits les plus lourds sont généralement les packs de liquides, qui sont autour de 10kg. Pour prendre une limite large, on choisi arbitrairement 20kg."
   ]
  },
  {
   "cell_type": "code",
   "execution_count": 17,
   "id": "64ba3461",
   "metadata": {},
   "outputs": [
    {
     "name": "stdout",
     "output_type": "stream",
     "text": [
      "26 produits dépassent un poid de 20.0kg\n"
     ]
    }
   ],
   "source": [
    "len_data = len(data)  # On enregistre la taille de la base de données pour voir la différence après filtrage\n",
    "# poids_limite: Poid maximal d'un produit accepté en g\n",
    "poids_limite = 20000\n",
    "# On garde les produits de poids inférieur au maximum et les poids non définis\n",
    "data = data[(data['serving_quantity']<poids_limite) | data['serving_quantity'].isna()]\n",
    "print(\"%d produits dépassent un poid de %.1fkg\" % (len_data-len(data), poids_limite/1000))"
   ]
  },
  {
   "cell_type": "markdown",
   "id": "a1bacdb1",
   "metadata": {},
   "source": [
    "### Nutri-score"
   ]
  },
  {
   "cell_type": "markdown",
   "id": "2289c0de",
   "metadata": {},
   "source": [
    "Les nutri-scores doivent être compris entre 40 et -15. Éliminons les produits sortants de cet intervalle."
   ]
  },
  {
   "cell_type": "code",
   "execution_count": 18,
   "id": "0991311f",
   "metadata": {},
   "outputs": [
    {
     "name": "stdout",
     "output_type": "stream",
     "text": [
      "0 produits ont un nutri-score en dehors des bornes [-15, 40]\n"
     ]
    }
   ],
   "source": [
    "# min_ns, max_ns: On définit le minimum et le maximum du nutri-score\n",
    "min_ns, max_ns = -15, 40\n",
    "# cond_nutriscore: Vrai si le produit sort de l'intervalle dans lequel est définit le nutri-score\n",
    "cond_nutriscore = (data['nutrition-score-fr_100g'] < min_ns) | (data['nutrition-score-fr_100g'] > max_ns)\n",
    "print(\"%d produits ont un nutri-score en dehors des bornes [%d, %d]\" % (len(data[cond_nutriscore]), min_ns, max_ns))\n",
    "# On garde les nutriscores dans les bornes définies ou les nutriscores non définis\n",
    "data = data[(~cond_nutriscore) | data['nutrition-score-fr_100g'].isna()]"
   ]
  },
  {
   "cell_type": "markdown",
   "id": "1c23eefa",
   "metadata": {},
   "source": [
    "### Ecoscore"
   ]
  },
  {
   "cell_type": "markdown",
   "id": "e23c1099",
   "metadata": {},
   "source": [
    "Les ecoscores doivent être compris entre -30 et 100. Éliminons les produits sortants de cet intervalle."
   ]
  },
  {
   "cell_type": "code",
   "execution_count": 19,
   "id": "cda868ce",
   "metadata": {},
   "outputs": [
    {
     "name": "stdout",
     "output_type": "stream",
     "text": [
      "0 produits ont un ecoscore en dehors de [-30, 100]\n"
     ]
    }
   ],
   "source": [
    "# cond_ecoscore: Vrai si le produit sort de l'intervalle dans lequel est définit l'ecoscore\n",
    "cond_ecoscore = (data['ecoscore_score_fr'] < -30) | (data['ecoscore_score_fr'] > 100)\n",
    "print(\"%s produits ont un ecoscore en dehors de [%d, %d]\" % (len(data[cond_nutriscore]), -30, 100))\n",
    "# On garde les écoscores dans les bornes définies et les écoscore non-définis\n",
    "data = data[(~cond_ecoscore) | data['ecoscore_score_fr'].isna()]"
   ]
  },
  {
   "cell_type": "markdown",
   "id": "9d1975d5",
   "metadata": {},
   "source": [
    "### Catégories principales"
   ]
  },
  {
   "cell_type": "markdown",
   "id": "5f515d69",
   "metadata": {},
   "source": [
    "Certains noms de catégories utilisent des tirets au lieu des espaces. On va rectifier cela."
   ]
  },
  {
   "cell_type": "code",
   "execution_count": 20,
   "id": "7e6b7849",
   "metadata": {},
   "outputs": [],
   "source": [
    "# col_categ: Va contenir le nom de chaque colonne contenant un niveau de catégories\n",
    "for col_categ in cols_categs:\n",
    "    # On remplace les caractères '-' par des ' ' dans les les noms de catégories\n",
    "    data[col_categ] = data[col_categ].str.replace('-', ' ')"
   ]
  },
  {
   "cell_type": "markdown",
   "id": "037accd3",
   "metadata": {},
   "source": [
    "Les catégories principales peuvent avoir des noms sans aucun sens. On garde celles qui sont écrites en alphabet latin."
   ]
  },
  {
   "cell_type": "code",
   "execution_count": 21,
   "id": "a032c888",
   "metadata": {},
   "outputs": [
    {
     "name": "stdout",
     "output_type": "stream",
     "text": [
      "531 catégories dans main_category_en ne sont pas écrites en alphabet latin\n",
      "0 catégories dans pnns_groups_2 ne sont pas écrites en alphabet latin\n",
      "0 catégories dans pnns_groups_1 ne sont pas écrites en alphabet latin\n"
     ]
    }
   ],
   "source": [
    "# col_categ: Va contenir le nom de chaque colonne contenant un niveau de catégories\n",
    "for col_categ in cols_categs:\n",
    "    len_data = len(data)  # On enregistre la taille de la base de données pour voir la différence après filtrage\n",
    "    # On garde les noms de colonnes écrits en alphabet latin\n",
    "    data = data[data[col_categ].str.match('[a-z]+')]\n",
    "    print(\"%d catégories dans %s ne sont pas écrites en alphabet latin\" % (len_data-len(data), col_categ))"
   ]
  },
  {
   "cell_type": "markdown",
   "id": "ca5019ce",
   "metadata": {},
   "source": [
    "Voyons la répartition des effectifs selon la catégorie principale."
   ]
  },
  {
   "cell_type": "code",
   "execution_count": 22,
   "id": "a481b6bb",
   "metadata": {},
   "outputs": [
    {
     "data": {
      "text/plain": [
       "Text(0.5, 1.0, 'Effectifs par catégorie principale')"
      ]
     },
     "execution_count": 22,
     "metadata": {},
     "output_type": "execute_result"
    },
    {
     "data": {
      "image/png": "[encoded data removed]",
      "text/plain": [
       "<Figure size 432x288 with 1 Axes>"
      ]
     },
     "metadata": {
      "needs_background": "light"
     },
     "output_type": "display_data"
    }
   ],
   "source": [
    "# size_main_categs: Taille de l'effectif pour chaque catégorie principale\n",
    "size_main_categs = data.groupby('main_category_en').count()['code'].sort_values()\n",
    "# num_categ: Numéro attribué à chaque catégorie principale\n",
    "num_categ = [i for i in range(len(size_main_categs))]\n",
    "# On affiche l'histogramme des effectifs par catégorie principale\n",
    "plt.bar(num_categ, size_main_categs)\n",
    "plt.ylim(0, 30)\n",
    "plt.xlabel('Numéro catégorie')\n",
    "plt.ylabel('effectifs')\n",
    "plt.title(\"Effectifs par catégorie principale\")"
   ]
  },
  {
   "cell_type": "markdown",
   "id": "a75f6f45",
   "metadata": {},
   "source": [
    "On observe qu'il y à plusieurs milliers de catégories qui ne contiennent qu'un seul produit. On va donc supprimer ceux qui n'appartiennent à aucune catégorie supérieure."
   ]
  },
  {
   "cell_type": "code",
   "execution_count": 23,
   "id": "ee786201",
   "metadata": {},
   "outputs": [
    {
     "name": "stdout",
     "output_type": "stream",
     "text": [
      "2529 produits sont seuls dans leurs catégories\n"
     ]
    }
   ],
   "source": [
    "# categs_low: Catégories ne contenant qu'un seul produit\n",
    "categs_low = size_main_categs[size_main_categs==1].index\n",
    "len_data = len(data)  # On enregistre la taille de la base de données pour voir la différence après filtrage\n",
    "# On garde les produits dont la catégorie principale contient au moins 2 produits, et appartient à une catégorie supérieure\n",
    "data = data[~(data['main_category_en'].isin(categs_low) & (data['pnns_groups_2'] == 'unknown'))]\n",
    "print(\"%d produits sont seuls dans leurs catégories\" % (len_data-len(data)))"
   ]
  },
  {
   "cell_type": "markdown",
   "id": "93c2f974",
   "metadata": {},
   "source": [
    "### Nova group"
   ]
  },
  {
   "cell_type": "code",
   "execution_count": 24,
   "id": "da757651",
   "metadata": {},
   "outputs": [
    {
     "name": "stdout",
     "output_type": "stream",
     "text": [
      "0 produits ont un groupe nova en dehors de [1; 4]\n"
     ]
    }
   ],
   "source": [
    "len_data = len(data) # On enregistre la taille de la base de données pour voir la différence après filtrage\n",
    "# cond_nova_group: Vrai si le produit sort de l'intervalle dans lequel est définit le groupe nova\n",
    "cond_nova_group = (data['nova_group'].isin([float(i) for i in range(1,5)]))\n",
    "# On garde les écoscores dans les bornes définies et les écoscore non-définis\n",
    "data = data[cond_nova_group | data['nova_group'].isna()]\n",
    "print(\"%s produits ont un groupe nova en dehors de [%d; %d]\" % (len_data-len(data), 1., 4.))"
   ]
  },
  {
   "cell_type": "markdown",
   "id": "c2210ac9",
   "metadata": {},
   "source": [
    "### Additives_en"
   ]
  },
  {
   "cell_type": "code",
   "execution_count": 25,
   "id": "5e1789ad",
   "metadata": {},
   "outputs": [],
   "source": [
    "data['additives_en'] = data['additives_en'].str.replace('es:potassium iodide', 'e917 - potassium iodate')"
   ]
  },
  {
   "cell_type": "code",
   "execution_count": 26,
   "id": "fa8b3b8f",
   "metadata": {},
   "outputs": [],
   "source": [
    "data = data[~data['additives_en'].str.contains(':')]"
   ]
  },
  {
   "cell_type": "markdown",
   "id": "70586507",
   "metadata": {},
   "source": [
    "# Imputation\n",
    "On va sélectionner les colonnes avec le plus de valeurs manquantes pour les remplir. Ensuite, on testera plusieurs imputers pour remplir les données. Notamment:\n",
    "- knn (classification ou régression)\n",
    "- Arbre de décision\n",
    "- Régression linéaire bayesienne"
   ]
  },
  {
   "cell_type": "markdown",
   "id": "80d1ecaa",
   "metadata": {},
   "source": [
    "## Valeurs nutritionnelles"
   ]
  },
  {
   "cell_type": "markdown",
   "id": "cff0f56e",
   "metadata": {},
   "source": [
    "Pour les valeurs nutritionnelles, voyons si les colonnes sont complètes."
   ]
  },
  {
   "cell_type": "code",
   "execution_count": 27,
   "id": "e94fdd74",
   "metadata": {},
   "outputs": [
    {
     "data": {
      "text/plain": [
       "<AxesSubplot:>"
      ]
     },
     "execution_count": 27,
     "metadata": {},
     "output_type": "execute_result"
    },
    {
     "data": {
      "image/png": "[encoded data removed]",
      "text/plain": [
       "<Figure size 1800x720 with 2 Axes>"
      ]
     },
     "metadata": {
      "needs_background": "light"
     },
     "output_type": "display_data"
    }
   ],
   "source": [
    "msno.matrix(data[cols_quantity])"
   ]
  },
  {
   "cell_type": "code",
   "execution_count": 28,
   "id": "ae6c7188",
   "metadata": {},
   "outputs": [
    {
     "name": "stdout",
     "output_type": "stream",
     "text": [
      "Les 6 colonnes pour lesquelles on a le moins de données:\n",
      "fiber_100g                     380437\n",
      "serving_quantity               391650\n",
      "ecoscore_score_fr              403831\n",
      "nova_group                     500935\n",
      "additives_n                    535911\n",
      "ingredients_from_palm_oil_n    535911\n",
      "dtype: int64\n"
     ]
    }
   ],
   "source": [
    "# cols_to_impute: Colonnes qu'on veut remplir avec un k-nn\n",
    "cols_to_impute = pd.Index(['fiber_100g', 'additives_n', 'ingredients_from_palm_oil_n', 'ecoscore_score_fr',\n",
    "                          'serving_quantity', 'nova_group'])\n",
    "print(\"Les %d colonnes pour lesquelles on a le moins de données:\" % len(cols_to_impute))\n",
    "print(data.count()[cols_to_impute].sort_values())"
   ]
  },
  {
   "cell_type": "code",
   "execution_count": 29,
   "id": "12ce90cf",
   "metadata": {},
   "outputs": [],
   "source": [
    "# cols_quality: Les colonnes des variables qualitatives\n",
    "cols_quality = pd.Index(['main_category_en', 'pnns_groups_1', 'pnns_groups_2', 'additives_en'])"
   ]
  },
  {
   "cell_type": "code",
   "execution_count": 30,
   "id": "b18be236",
   "metadata": {},
   "outputs": [],
   "source": [
    "# On supprime la colonne 'energy_100g' car on a déjà une colonne pour la valeur énergétique\n",
    "cols_quantity = cols_quantity.difference(pd.Index(['energy_100g']))\n",
    "# cols_quantity_full: Colonnes dont on va exiger la complétude des données\n",
    "cols_quantity_full = cols_quantity.difference(cols_to_impute)\n",
    "# On garde dans data les lignes pour lesquelles on a toutes ces données\n",
    "data = data.dropna(subset=cols_quantity_full)"
   ]
  },
  {
   "cell_type": "markdown",
   "id": "3f24c910",
   "metadata": {},
   "source": [
    "### Fonctions d'imputation"
   ]
  },
  {
   "cell_type": "markdown",
   "id": "e2d712ba",
   "metadata": {},
   "source": [
    "On implémente plusieurs fonctions d'imputation, qu'on va tester pour chacune des variables à imputer et dont on gardera la plus performante pour chacune."
   ]
  },
  {
   "cell_type": "code",
   "execution_count": 31,
   "id": "4f0fd815",
   "metadata": {},
   "outputs": [],
   "source": [
    "def calculate_r2(y_obs, y_exp):\n",
    "    \"\"\"Calcule le R2 à partir de la somme des carrés résiduelle et la somme des carrés totale\"\"\"\n",
    "    residual = ((y_obs-y_exp)**2).sum()\n",
    "    residual = residual / (((y_exp-y_exp.mean())**2).sum())\n",
    "    return 1-residual"
   ]
  },
  {
   "cell_type": "code",
   "execution_count": 32,
   "id": "a21fca80",
   "metadata": {},
   "outputs": [],
   "source": [
    "def calculate_error_regressor(reg, xtest, ytest, integers):\n",
    "    \"\"\"Calcule 1-R2 pour une prédiction après conversion en valeurs entières si besoin\"\"\"\n",
    "    ytest_calc = reg.predict(xtest)\n",
    "    if integers:\n",
    "        ytest_calc = pd.Series(ytest_calc).map(round)\n",
    "    return 1 - calculate_r2(ytest_calc, ytest)"
   ]
  },
  {
   "cell_type": "code",
   "execution_count": 33,
   "id": "d47b971d",
   "metadata": {},
   "outputs": [],
   "source": [
    "def regression_imputer_sub(var_name, data_reg, cols_reg, regressor, train_size=0.8, integers=False):\n",
    "    \"\"\"Calcule la régression avec de nouvelles conditions initiales\"\"\"\n",
    "    # var_values: Données attendues en sortie\n",
    "    var_values = data_reg[var_name]\n",
    "    data_reg = data_reg[cols_reg]\n",
    "    # On initialise l'échantillon d'entraînement et l'échantillon de test\n",
    "    xtrain, xtest, ytrain, ytest = train_test_split(data_reg, var_values, train_size=train_size)\n",
    "    reg = regressor()\n",
    "    reg.fit(xtrain, ytrain)\n",
    "    error = calculate_error_regressor(reg, xtest, ytest, integers)\n",
    "    return reg, error\n",
    "\n",
    "def regression_imputer(var_name, data, cols_reg, regressor, train_size=0.8, integers=False, nb_trials=5):\n",
    "    \"\"\"Entraîne un modèle prédictif sur des données, retourne ce modèle et affiche le 1 - R2\"\"\"\n",
    "    # data_reg: Données qui vont être utilisée en entrée de la régression\n",
    "    data_reg = data.dropna(subset=cols_reg.append(pd.Index([var_name])))\n",
    "    print(\"On a %d individus pour créer la régression de la variable \\'%s\\'\" % (len(data_reg), var_name))\n",
    "    reg, error = regression_imputer_sub(var_name, data_reg, cols_reg, regressor, train_size, integers)\n",
    "    print(\"Regression utilisée: %s\" % reg)\n",
    "    for i in range(nb_trials-1):\n",
    "        reg_, error_ = regression_imputer_sub(var_name, data_reg, cols_reg, regressor, train_size, integers)\n",
    "        if error_ < error:\n",
    "            reg, error = reg_, error_\n",
    "    print(\"1 - R^2 = %f \" % error)\n",
    "    return reg"
   ]
  },
  {
   "cell_type": "code",
   "execution_count": 113,
   "id": "712aa82f",
   "metadata": {},
   "outputs": [],
   "source": [
    "def knn_imputer_sub(data_knn, var_values, k, train_size, knn_construct, integers, nb_trials=5):\n",
    "    \"\"\"Calcule le k-nn plusieurs fois, car il dépend des conditions initiales\"\"\"\n",
    "    xtrain, xtest, ytrain, ytest = train_test_split(data_knn, var_values, train_size=train_size)\n",
    "    knn = knn_construct(n_neighbors=k)\n",
    "    knn.fit(xtrain, ytrain)\n",
    "    error = calculate_error_regressor(knn, xtest, ytest, integers)\n",
    "    for i in range(nb_trials):\n",
    "        xtrain, xtest, ytrain, ytest = train_test_split(data_knn, var_values, train_size=train_size)\n",
    "        knn_ = knn_construct(n_neighbors=k)\n",
    "        knn_.fit(xtrain, ytrain)\n",
    "        error_ = calculate_error_regressor(knn_, xtest, ytest, integers)\n",
    "        if error_ < error:\n",
    "            knn, error = knn_, error_\n",
    "    return knn, error\n",
    "\n",
    "def knn_imputer(var_name, data, cols_knn, k_range, train_size=0.8, classifier=True, plot=True, integers=False,\n",
    "               nb_trials=5):\n",
    "    \"\"\"Affiche le graphe des 1 - R2 pour les k-nn en fonction de k et retourne le k-nn optimal trouvé\"\"\"\n",
    "    # knn_construct: Constructeur du knn. Peut être un classifieur ou un régresseur.\n",
    "    knn_construct = neighbors.KNeighborsClassifier if classifier else neighbors.KNeighborsRegressor\n",
    "    # data_knn: Données qui vont être utilisée en entrée du k-nn\n",
    "    data_knn = data.dropna(subset=cols_knn.append(pd.Index([var_name])))\n",
    "    # var_values: Données attendues en sortie\n",
    "    var_values = data_knn[var_name]\n",
    "    data_knn = data_knn[cols_knn]\n",
    "    # On initialise l'échantillon d'entraînement et l'échantillon de test\n",
    "    xtrain, xtest, ytrain, ytest = train_test_split(data_knn, var_values, train_size=train_size)\n",
    "    print(\"On a %d individus pour créer le k-nn de la variable \\'%s\\'\" % (len(data_knn), var_name))\n",
    "    # values_k, errors_k, knn: On stocke les résultats de chaque itérations dans ces tableaux\n",
    "    values_k, errors_k, knns = [], [], []\n",
    "    for k in range(k_range[0], k_range[1]+1):\n",
    "        knn = knn_construct(n_neighbors=k)\n",
    "        knn.fit(xtrain, ytrain)\n",
    "        error = calculate_error_regressor(knn, xtest, ytest, integers)\n",
    "        values_k.append(k)\n",
    "        errors_k.append(error)\n",
    "        knns.append(knn)\n",
    "    # Affichage du graphe de l'erreur en fonction de k\n",
    "    if plot:\n",
    "        plt.plot(values_k, errors_k)\n",
    "        plt.xlabel('k')\n",
    "        plt.ylabel('1 - R^2')\n",
    "        plt.title(\"Recherche du k minimisant l\\'erreur pour \\'%s\\'\" % var_name)\n",
    "    # Affichage de l'erreur minimale\n",
    "    err_min = min(errors_k)\n",
    "    ind_min = errors_k.index(err_min)\n",
    "    k_min = values_k[ind_min]\n",
    "    knn, err_min = knn_imputer_sub(data_knn, var_values, k_min, train_size, knn_construct, integers, nb_trials)\n",
    "    print(\"Erreur minimale: %f (k=%d)\" % (err_min, k_min))\n",
    "    return knn"
   ]
  },
  {
   "cell_type": "code",
   "execution_count": 35,
   "id": "5aecf756",
   "metadata": {},
   "outputs": [],
   "source": [
    "def means_imputer(var_name, data, train_size=0.8, integers=False):\n",
    "    \"\"\" Retourne une fonction qui remplit les valeurs manquantes d'une variable avec la moyenne de la catégorie\n",
    "    la plus proche pour cette variable\"\"\"\n",
    "    # Création des échantillons de calcul et de test\n",
    "    data_var = data.dropna(subset=[var_name])\n",
    "    values_var = data_var[var_name]\n",
    "    xtrain, xtest, ytrain, ytest = train_test_split(data_var, values_var, train_size=0.8)\n",
    "    xtrain[var_name] = ytrain\n",
    "    # Calcul des moyennes niveau de catégorie\n",
    "    mean_glob = xtrain[var_name].mean()\n",
    "    mean_per_categ = xtrain.groupby('main_category_en').mean()[var_name]\n",
    "    mean_per_pnns2 = xtrain.groupby('pnns_groups_2').mean()[var_name]\n",
    "    mean_per_pnns1 = xtrain.groupby('pnns_groups_1').mean()[var_name]\n",
    "    # Fonction modifiant la valeur de la variable pour un individu par la moyenne de la catégorie la plus proche\n",
    "    def impute_individual(x):\n",
    "        if x['main_category_en'] in mean_per_categ.index:\n",
    "            x[var_name] = mean_per_categ[x['main_category_en']]\n",
    "        elif (x['pnns_groups_2'] != 'unknown') and (x['pnns_groups_2'] in mean_per_pnns2.index):\n",
    "            x[var_name] = mean_per_pnns2[x['pnns_groups_2']]\n",
    "        elif (x['pnns_groups_1'] != 'unknown') and (x['pnns_groups_1'] in mean_per_pnns1.index):\n",
    "            x[var_name] = mean_per_pnns1[x['pnns_groups_1']]\n",
    "        else:\n",
    "            x[var_name] = mean_glob\n",
    "        return x\n",
    "    # On teste cette fonction\n",
    "    xtest[var_name] = [np.nan]*len(ytest)\n",
    "    ytest_calc = xtest.apply(impute_individual, axis=1)[var_name]\n",
    "    if integers:\n",
    "        ytest_calc = ytest_calc.map(round)\n",
    "    error = 1 - calculate_r2(ytest_calc, ytest) \n",
    "    print(\"1 - R^2 = %.2f en utilisant les moyennes par catégorie pour %s\" % (error, var_name))\n",
    "    def impute_all(x_all):\n",
    "        return np.array([impute_individual(x) for x in x_all])\n",
    "    impute_individual.predict = impute_all\n",
    "    return impute_individual\n"
   ]
  },
  {
   "cell_type": "markdown",
   "id": "63fd56e5",
   "metadata": {},
   "source": [
    "### additives_n"
   ]
  },
  {
   "cell_type": "markdown",
   "id": "2b400347",
   "metadata": {},
   "source": [
    "Pour cette variable, on a une variable complémentaire qui est 'additives_en'. Elle est moins remplie que la colonne qu'on veut remplir, mais peut-être que les deux colonnes ne sont pas remplies pour les mêmes individus."
   ]
  },
  {
   "cell_type": "code",
   "execution_count": 36,
   "id": "04472461",
   "metadata": {},
   "outputs": [
    {
     "name": "stdout",
     "output_type": "stream",
     "text": [
      "0 Valeurs du nombre d'additifs ajoutés\n"
     ]
    }
   ],
   "source": [
    "def additives_number(additives_list):\n",
    "    \"\"\"Compte le nombre d'additifs à partir de la liste des additifs sous forme de chaîne de caractères\"\"\"\n",
    "    if additives_list == 'nan':\n",
    "        return 0\n",
    "    else:\n",
    "        return len(additives_list.split('-'))\n",
    "# size_additives_n: Nombre de valeurs remplies dans la colonne 'additives_n', pour comparer après remplissage\n",
    "size_additives_n = len(data['additives_n'].dropna())\n",
    "# additives_n_calc: Les nombres d'additifs obtenus avec les listes\n",
    "additives_n_calc = data['additives_en'].map(additives_number)\n",
    "# On prend le maximum des deux nombres d'additifs pour chaque produit\n",
    "data['additives_n'] = data['additives_n'].combine(additives_n_calc, max)\n",
    "print(\"%d Valeurs du nombre d'additifs ajoutés\" % (len(data['additives_n'].dropna())-size_additives_n))"
   ]
  },
  {
   "cell_type": "markdown",
   "id": "c7c19a2c",
   "metadata": {},
   "source": [
    "On va tester différents imputers et comparer leurs précisions."
   ]
  },
  {
   "cell_type": "code",
   "execution_count": 114,
   "id": "314f2788",
   "metadata": {},
   "outputs": [
    {
     "name": "stdout",
     "output_type": "stream",
     "text": [
      "On a 411997 individus pour créer le k-nn de la variable 'additives_n'\n",
      "Erreur minimale: 0.234525 (k=50)\n"
     ]
    },
    {
     "data": {
      "text/plain": [
       "KNeighborsRegressor(n_neighbors=50)"
      ]
     },
     "execution_count": 114,
     "metadata": {},
     "output_type": "execute_result"
    },
    {
     "data": {
      "image/png": "[encoded data removed]",
      "text/plain": [
       "<Figure size 432x288 with 1 Axes>"
      ]
     },
     "metadata": {
      "needs_background": "light"
     },
     "output_type": "display_data"
    }
   ],
   "source": [
    "knn_imputer('additives_n', data, cols_quantity_full, (2, 50), plot=True, classifier=False,\n",
    "            integers=True)"
   ]
  },
  {
   "cell_type": "code",
   "execution_count": 38,
   "id": "bee88958",
   "metadata": {},
   "outputs": [
    {
     "name": "stdout",
     "output_type": "stream",
     "text": [
      "On a 411997 individus pour créer la régression de la variable 'additives_n'\n",
      "Regression utilisée: BayesianRidge()\n",
      "1 - R^2 = 0.191329 \n"
     ]
    }
   ],
   "source": [
    "imputer_additives = regression_imputer('additives_n', data, cols_quantity_full, BayesianRidge, integers=True)"
   ]
  },
  {
   "cell_type": "code",
   "execution_count": 39,
   "id": "adfcaa9d",
   "metadata": {},
   "outputs": [
    {
     "name": "stdout",
     "output_type": "stream",
     "text": [
      "On a 411997 individus pour créer la régression de la variable 'additives_n'\n",
      "Regression utilisée: DecisionTreeRegressor()\n",
      "1 - R^2 = 0.288694 \n"
     ]
    },
    {
     "data": {
      "text/plain": [
       "DecisionTreeRegressor()"
      ]
     },
     "execution_count": 39,
     "metadata": {},
     "output_type": "execute_result"
    }
   ],
   "source": [
    "regression_imputer('additives_n', data, cols_quantity_full, DecisionTreeRegressor, integers=True)"
   ]
  },
  {
   "cell_type": "markdown",
   "id": "1cfa59ae",
   "metadata": {},
   "source": [
    "Voyons ce que l'on obtient comme erreur si on utilise la moyenne par catégorie principale au lieu d'un knn."
   ]
  },
  {
   "cell_type": "code",
   "execution_count": 40,
   "id": "6fc5bc8e",
   "metadata": {},
   "outputs": [
    {
     "name": "stderr",
     "output_type": "stream",
     "text": [
      "/tmp/ipykernel_11804/3937997819.py:8: SettingWithCopyWarning: \n",
      "A value is trying to be set on a copy of a slice from a DataFrame.\n",
      "Try using .loc[row_indexer,col_indexer] = value instead\n",
      "\n",
      "See the caveats in the documentation: https://pandas.pydata.org/pandas-docs/stable/user_guide/indexing.html#returning-a-view-versus-a-copy\n",
      "  xtrain[var_name] = ytrain\n",
      "/tmp/ipykernel_11804/3937997819.py:26: SettingWithCopyWarning: \n",
      "A value is trying to be set on a copy of a slice from a DataFrame.\n",
      "Try using .loc[row_indexer,col_indexer] = value instead\n",
      "\n",
      "See the caveats in the documentation: https://pandas.pydata.org/pandas-docs/stable/user_guide/indexing.html#returning-a-view-versus-a-copy\n",
      "  xtest[var_name] = [np.nan]*len(ytest)\n"
     ]
    },
    {
     "name": "stdout",
     "output_type": "stream",
     "text": [
      "1 - R^2 = 0.61 en utilisant les moyennes par catégorie pour additives_n\n"
     ]
    },
    {
     "data": {
      "text/plain": [
       "<function __main__.means_imputer.<locals>.impute_individual(x)>"
      ]
     },
     "execution_count": 40,
     "metadata": {},
     "output_type": "execute_result"
    }
   ],
   "source": [
    "means_imputer('additives_n', data, integers=True)"
   ]
  },
  {
   "cell_type": "markdown",
   "id": "28d93922",
   "metadata": {},
   "source": [
    "Finalement la méthode la plus précise est celle de la régression k-nn, avec un R2 de ~0.5. C'est une approximation assez peu précise malheureusement. Mais cela peut-être du au fait qu'on n'essaye pas de prédire la quantité d'additifs, mais leurs nombres, et donc il n'y à peut-être pas de lien direct avec les quantités nutritionnelles."
   ]
  },
  {
   "cell_type": "markdown",
   "id": "3c3b4c72",
   "metadata": {},
   "source": [
    "### ingredients_from_palm_oil_n"
   ]
  },
  {
   "cell_type": "code",
   "execution_count": 115,
   "id": "141666da",
   "metadata": {},
   "outputs": [
    {
     "name": "stdout",
     "output_type": "stream",
     "text": [
      "On a 411997 individus pour créer le k-nn de la variable 'ingredients_from_palm_oil_n'\n",
      "Erreur minimale: 0.020949 (k=20)\n"
     ]
    },
    {
     "data": {
      "text/plain": [
       "KNeighborsClassifier(n_neighbors=20)"
      ]
     },
     "execution_count": 115,
     "metadata": {},
     "output_type": "execute_result"
    },
    {
     "data": {
      "image/png": "[encoded data removed]",
      "text/plain": [
       "<Figure size 432x288 with 1 Axes>"
      ]
     },
     "metadata": {
      "needs_background": "light"
     },
     "output_type": "display_data"
    }
   ],
   "source": [
    "knn_imputer('ingredients_from_palm_oil_n', data, cols_quantity_full, (2,25), \n",
    "            classifier=True, integers=True)"
   ]
  },
  {
   "cell_type": "code",
   "execution_count": 43,
   "id": "a2d3be08",
   "metadata": {},
   "outputs": [
    {
     "name": "stdout",
     "output_type": "stream",
     "text": [
      "On a 411997 individus pour créer la régression de la variable 'ingredients_from_palm_oil_n'\n",
      "Regression utilisée: BayesianRidge()\n",
      "1 - R^2 = 0.005688 \n"
     ]
    }
   ],
   "source": [
    "imputer_palm_oil = regression_imputer('ingredients_from_palm_oil_n', data, cols_quantity_full, BayesianRidge,\n",
    "                                      integers=True)"
   ]
  },
  {
   "cell_type": "code",
   "execution_count": 44,
   "id": "43363ce7",
   "metadata": {},
   "outputs": [
    {
     "name": "stdout",
     "output_type": "stream",
     "text": [
      "On a 411997 individus pour créer la régression de la variable 'ingredients_from_palm_oil_n'\n",
      "Regression utilisée: DecisionTreeRegressor()\n",
      "1 - R^2 = 0.131273 \n"
     ]
    },
    {
     "data": {
      "text/plain": [
       "DecisionTreeRegressor()"
      ]
     },
     "execution_count": 44,
     "metadata": {},
     "output_type": "execute_result"
    }
   ],
   "source": [
    "regression_imputer('ingredients_from_palm_oil_n', data, cols_quantity_full, DecisionTreeRegressor,\n",
    "                   integers=True)"
   ]
  },
  {
   "cell_type": "code",
   "execution_count": 45,
   "id": "7ba8b51d",
   "metadata": {},
   "outputs": [
    {
     "name": "stderr",
     "output_type": "stream",
     "text": [
      "/tmp/ipykernel_11804/3937997819.py:8: SettingWithCopyWarning: \n",
      "A value is trying to be set on a copy of a slice from a DataFrame.\n",
      "Try using .loc[row_indexer,col_indexer] = value instead\n",
      "\n",
      "See the caveats in the documentation: https://pandas.pydata.org/pandas-docs/stable/user_guide/indexing.html#returning-a-view-versus-a-copy\n",
      "  xtrain[var_name] = ytrain\n",
      "/tmp/ipykernel_11804/3937997819.py:26: SettingWithCopyWarning: \n",
      "A value is trying to be set on a copy of a slice from a DataFrame.\n",
      "Try using .loc[row_indexer,col_indexer] = value instead\n",
      "\n",
      "See the caveats in the documentation: https://pandas.pydata.org/pandas-docs/stable/user_guide/indexing.html#returning-a-view-versus-a-copy\n",
      "  xtest[var_name] = [np.nan]*len(ytest)\n"
     ]
    },
    {
     "name": "stdout",
     "output_type": "stream",
     "text": [
      "1 - R^2 = 1.03 en utilisant les moyennes par catégorie pour ingredients_from_palm_oil_n\n"
     ]
    },
    {
     "data": {
      "text/plain": [
       "<function __main__.means_imputer.<locals>.impute_individual(x)>"
      ]
     },
     "execution_count": 45,
     "metadata": {},
     "output_type": "execute_result"
    }
   ],
   "source": [
    "means_imputer('ingredients_from_palm_oil_n', data, integers=True)"
   ]
  },
  {
   "cell_type": "markdown",
   "id": "690c684d",
   "metadata": {},
   "source": [
    "### ecoscore_score_fr"
   ]
  },
  {
   "cell_type": "code",
   "execution_count": 116,
   "id": "b03d87c3",
   "metadata": {
    "scrolled": true
   },
   "outputs": [
    {
     "name": "stdout",
     "output_type": "stream",
     "text": [
      "On a 293540 individus pour créer le k-nn de la variable 'ecoscore_score_fr'\n",
      "Erreur minimale: 0.035631 (k=20)\n"
     ]
    },
    {
     "data": {
      "image/png": "[encoded data removed]",
      "text/plain": [
       "<Figure size 432x288 with 1 Axes>"
      ]
     },
     "metadata": {
      "needs_background": "light"
     },
     "output_type": "display_data"
    }
   ],
   "source": [
    "imputer_ecoscore = knn_imputer('ecoscore_score_fr', data, cols_quantity_full, (2,20), classifier=False,\n",
    "                               integers=True)"
   ]
  },
  {
   "cell_type": "code",
   "execution_count": 47,
   "id": "ba805d20",
   "metadata": {},
   "outputs": [
    {
     "name": "stdout",
     "output_type": "stream",
     "text": [
      "On a 293540 individus pour créer la régression de la variable 'ecoscore_score_fr'\n",
      "Regression utilisée: BayesianRidge()\n",
      "1 - R^2 = 0.025926 \n"
     ]
    },
    {
     "data": {
      "text/plain": [
       "BayesianRidge()"
      ]
     },
     "execution_count": 47,
     "metadata": {},
     "output_type": "execute_result"
    }
   ],
   "source": [
    "regression_imputer('ecoscore_score_fr', data, cols_quantity_full, BayesianRidge,\n",
    "                   integers=True)"
   ]
  },
  {
   "cell_type": "code",
   "execution_count": 48,
   "id": "7d0d3fd0",
   "metadata": {},
   "outputs": [
    {
     "name": "stdout",
     "output_type": "stream",
     "text": [
      "On a 293540 individus pour créer la régression de la variable 'ecoscore_score_fr'\n",
      "Regression utilisée: DecisionTreeRegressor()\n",
      "1 - R^2 = 0.044033 \n"
     ]
    },
    {
     "data": {
      "text/plain": [
       "DecisionTreeRegressor()"
      ]
     },
     "execution_count": 48,
     "metadata": {},
     "output_type": "execute_result"
    }
   ],
   "source": [
    "regression_imputer('ecoscore_score_fr', data, cols_quantity_full, DecisionTreeRegressor, integers=True)"
   ]
  },
  {
   "cell_type": "code",
   "execution_count": 49,
   "id": "1c067f3b",
   "metadata": {},
   "outputs": [
    {
     "name": "stderr",
     "output_type": "stream",
     "text": [
      "/tmp/ipykernel_11804/3937997819.py:8: SettingWithCopyWarning: \n",
      "A value is trying to be set on a copy of a slice from a DataFrame.\n",
      "Try using .loc[row_indexer,col_indexer] = value instead\n",
      "\n",
      "See the caveats in the documentation: https://pandas.pydata.org/pandas-docs/stable/user_guide/indexing.html#returning-a-view-versus-a-copy\n",
      "  xtrain[var_name] = ytrain\n",
      "/tmp/ipykernel_11804/3937997819.py:26: SettingWithCopyWarning: \n",
      "A value is trying to be set on a copy of a slice from a DataFrame.\n",
      "Try using .loc[row_indexer,col_indexer] = value instead\n",
      "\n",
      "See the caveats in the documentation: https://pandas.pydata.org/pandas-docs/stable/user_guide/indexing.html#returning-a-view-versus-a-copy\n",
      "  xtest[var_name] = [np.nan]*len(ytest)\n"
     ]
    },
    {
     "name": "stdout",
     "output_type": "stream",
     "text": [
      "1 - R^2 = 0.12 en utilisant les moyennes par catégorie pour ecoscore_score_fr\n"
     ]
    },
    {
     "data": {
      "text/plain": [
       "<function __main__.means_imputer.<locals>.impute_individual(x)>"
      ]
     },
     "execution_count": 49,
     "metadata": {},
     "output_type": "execute_result"
    }
   ],
   "source": [
    "means_imputer('ecoscore_score_fr', data, integers=True)"
   ]
  },
  {
   "cell_type": "markdown",
   "id": "cf74c723",
   "metadata": {},
   "source": [
    "### fiber_100g"
   ]
  },
  {
   "cell_type": "code",
   "execution_count": 117,
   "id": "58a7a433",
   "metadata": {},
   "outputs": [
    {
     "name": "stdout",
     "output_type": "stream",
     "text": [
      "On a 338798 individus pour créer le k-nn de la variable 'fiber_100g'\n",
      "Erreur minimale: 0.318705 (k=4)\n"
     ]
    },
    {
     "data": {
      "image/png": "[encoded data removed]",
      "text/plain": [
       "<Figure size 432x288 with 1 Axes>"
      ]
     },
     "metadata": {
      "needs_background": "light"
     },
     "output_type": "display_data"
    }
   ],
   "source": [
    "imputer_fiber = knn_imputer('fiber_100g', data, cols_quantity_full, (2,7), classifier=False)"
   ]
  },
  {
   "cell_type": "code",
   "execution_count": 51,
   "id": "abbd812d",
   "metadata": {},
   "outputs": [
    {
     "name": "stdout",
     "output_type": "stream",
     "text": [
      "On a 338798 individus pour créer la régression de la variable 'fiber_100g'\n",
      "Regression utilisée: BayesianRidge()\n",
      "1 - R^2 = 0.700073 \n"
     ]
    },
    {
     "data": {
      "text/plain": [
       "BayesianRidge()"
      ]
     },
     "execution_count": 51,
     "metadata": {},
     "output_type": "execute_result"
    }
   ],
   "source": [
    "regression_imputer('fiber_100g', data, cols_quantity_full, BayesianRidge)"
   ]
  },
  {
   "cell_type": "code",
   "execution_count": 52,
   "id": "e72b09b0",
   "metadata": {},
   "outputs": [
    {
     "name": "stdout",
     "output_type": "stream",
     "text": [
      "On a 338798 individus pour créer la régression de la variable 'fiber_100g'\n",
      "Regression utilisée: DecisionTreeRegressor()\n",
      "1 - R^2 = 0.414722 \n"
     ]
    },
    {
     "data": {
      "text/plain": [
       "DecisionTreeRegressor()"
      ]
     },
     "execution_count": 52,
     "metadata": {},
     "output_type": "execute_result"
    }
   ],
   "source": [
    "regression_imputer('fiber_100g', data, cols_quantity_full, DecisionTreeRegressor)"
   ]
  },
  {
   "cell_type": "code",
   "execution_count": 53,
   "id": "3f010021",
   "metadata": {},
   "outputs": [
    {
     "name": "stderr",
     "output_type": "stream",
     "text": [
      "/tmp/ipykernel_11804/3937997819.py:8: SettingWithCopyWarning: \n",
      "A value is trying to be set on a copy of a slice from a DataFrame.\n",
      "Try using .loc[row_indexer,col_indexer] = value instead\n",
      "\n",
      "See the caveats in the documentation: https://pandas.pydata.org/pandas-docs/stable/user_guide/indexing.html#returning-a-view-versus-a-copy\n",
      "  xtrain[var_name] = ytrain\n",
      "/tmp/ipykernel_11804/3937997819.py:26: SettingWithCopyWarning: \n",
      "A value is trying to be set on a copy of a slice from a DataFrame.\n",
      "Try using .loc[row_indexer,col_indexer] = value instead\n",
      "\n",
      "See the caveats in the documentation: https://pandas.pydata.org/pandas-docs/stable/user_guide/indexing.html#returning-a-view-versus-a-copy\n",
      "  xtest[var_name] = [np.nan]*len(ytest)\n"
     ]
    },
    {
     "name": "stdout",
     "output_type": "stream",
     "text": [
      "1 - R^2 = 0.58 en utilisant les moyennes par catégorie pour fiber_100g\n"
     ]
    },
    {
     "data": {
      "text/plain": [
       "<function __main__.means_imputer.<locals>.impute_individual(x)>"
      ]
     },
     "execution_count": 53,
     "metadata": {},
     "output_type": "execute_result"
    }
   ],
   "source": [
    "means_imputer('fiber_100g', data)"
   ]
  },
  {
   "cell_type": "markdown",
   "id": "e212d212",
   "metadata": {},
   "source": [
    "### serving_quantity"
   ]
  },
  {
   "cell_type": "code",
   "execution_count": 118,
   "id": "c31f64a6",
   "metadata": {},
   "outputs": [
    {
     "name": "stdout",
     "output_type": "stream",
     "text": [
      "On a 311328 individus pour créer le k-nn de la variable 'serving_quantity'\n",
      "Erreur minimale: 0.456407 (k=10)\n"
     ]
    },
    {
     "data": {
      "image/png": "[encoded data removed]",
      "text/plain": [
       "<Figure size 432x288 with 1 Axes>"
      ]
     },
     "metadata": {
      "needs_background": "light"
     },
     "output_type": "display_data"
    }
   ],
   "source": [
    "imputer_serving_quantity = knn_imputer('serving_quantity', data, cols_quantity_full, (2,13), classifier=False)"
   ]
  },
  {
   "cell_type": "code",
   "execution_count": 55,
   "id": "94369f23",
   "metadata": {},
   "outputs": [
    {
     "name": "stdout",
     "output_type": "stream",
     "text": [
      "On a 311328 individus pour créer la régression de la variable 'serving_quantity'\n",
      "Regression utilisée: BayesianRidge()\n",
      "1 - R^2 = 0.725168 \n"
     ]
    },
    {
     "data": {
      "text/plain": [
       "BayesianRidge()"
      ]
     },
     "execution_count": 55,
     "metadata": {},
     "output_type": "execute_result"
    }
   ],
   "source": [
    "regression_imputer('serving_quantity', data, cols_quantity_full, BayesianRidge)"
   ]
  },
  {
   "cell_type": "code",
   "execution_count": 56,
   "id": "6acbcb30",
   "metadata": {},
   "outputs": [
    {
     "name": "stdout",
     "output_type": "stream",
     "text": [
      "On a 311328 individus pour créer la régression de la variable 'serving_quantity'\n",
      "Regression utilisée: DecisionTreeRegressor()\n",
      "1 - R^2 = 0.774383 \n"
     ]
    },
    {
     "data": {
      "text/plain": [
       "DecisionTreeRegressor()"
      ]
     },
     "execution_count": 56,
     "metadata": {},
     "output_type": "execute_result"
    }
   ],
   "source": [
    "regression_imputer('serving_quantity', data, cols_quantity_full, DecisionTreeRegressor)"
   ]
  },
  {
   "cell_type": "code",
   "execution_count": 57,
   "id": "c4564921",
   "metadata": {},
   "outputs": [
    {
     "name": "stderr",
     "output_type": "stream",
     "text": [
      "/tmp/ipykernel_11804/3937997819.py:8: SettingWithCopyWarning: \n",
      "A value is trying to be set on a copy of a slice from a DataFrame.\n",
      "Try using .loc[row_indexer,col_indexer] = value instead\n",
      "\n",
      "See the caveats in the documentation: https://pandas.pydata.org/pandas-docs/stable/user_guide/indexing.html#returning-a-view-versus-a-copy\n",
      "  xtrain[var_name] = ytrain\n",
      "/tmp/ipykernel_11804/3937997819.py:26: SettingWithCopyWarning: \n",
      "A value is trying to be set on a copy of a slice from a DataFrame.\n",
      "Try using .loc[row_indexer,col_indexer] = value instead\n",
      "\n",
      "See the caveats in the documentation: https://pandas.pydata.org/pandas-docs/stable/user_guide/indexing.html#returning-a-view-versus-a-copy\n",
      "  xtest[var_name] = [np.nan]*len(ytest)\n"
     ]
    },
    {
     "name": "stdout",
     "output_type": "stream",
     "text": [
      "1 - R^2 = 0.47 en utilisant les moyennes par catégorie pour serving_quantity\n"
     ]
    },
    {
     "data": {
      "text/plain": [
       "<function __main__.means_imputer.<locals>.impute_individual(x)>"
      ]
     },
     "execution_count": 57,
     "metadata": {},
     "output_type": "execute_result"
    }
   ],
   "source": [
    "means_imputer('serving_quantity', data)"
   ]
  },
  {
   "cell_type": "markdown",
   "id": "71afcbcc",
   "metadata": {},
   "source": [
    "### nova_group"
   ]
  },
  {
   "cell_type": "code",
   "execution_count": 119,
   "id": "d56e6306",
   "metadata": {},
   "outputs": [
    {
     "name": "stdout",
     "output_type": "stream",
     "text": [
      "On a 388670 individus pour créer le k-nn de la variable 'nova_group'\n",
      "Erreur minimale: 0.493813 (k=7)\n"
     ]
    },
    {
     "data": {
      "text/plain": [
       "KNeighborsClassifier(n_neighbors=7)"
      ]
     },
     "execution_count": 119,
     "metadata": {},
     "output_type": "execute_result"
    },
    {
     "data": {
      "image/png": "[encoded data removed]",
      "text/plain": [
       "<Figure size 432x288 with 1 Axes>"
      ]
     },
     "metadata": {
      "needs_background": "light"
     },
     "output_type": "display_data"
    }
   ],
   "source": [
    "knn_imputer('nova_group', data, cols_quantity_full, (2,12), classifier=True)"
   ]
  },
  {
   "cell_type": "code",
   "execution_count": 120,
   "id": "93e63ba1",
   "metadata": {},
   "outputs": [
    {
     "name": "stdout",
     "output_type": "stream",
     "text": [
      "On a 387861 individus pour créer le k-nn de la variable 'nova_group'\n",
      "Erreur minimale: 0.379317 (k=4)\n"
     ]
    },
    {
     "data": {
      "text/plain": [
       "KNeighborsClassifier(n_neighbors=4)"
      ]
     },
     "execution_count": 120,
     "metadata": {},
     "output_type": "execute_result"
    },
    {
     "data": {
      "image/png": "[encoded data removed]",
      "text/plain": [
       "<Figure size 432x288 with 1 Axes>"
      ]
     },
     "metadata": {
      "needs_background": "light"
     },
     "output_type": "display_data"
    }
   ],
   "source": [
    "knn_imputer('nova_group', data,\n",
    "            cols_quantity_full.append(pd.Index(['additives_n', 'ingredients_from_palm_oil_n'])),\n",
    "            (2,10), classifier=True)"
   ]
  },
  {
   "cell_type": "code",
   "execution_count": 71,
   "id": "fa0371b3",
   "metadata": {},
   "outputs": [
    {
     "name": "stdout",
     "output_type": "stream",
     "text": [
      "On a 388670 individus pour créer la régression de la variable 'nova_group'\n",
      "Regression utilisée: DecisionTreeClassifier()\n",
      "1 - R^2 = 0.217066 \n"
     ]
    }
   ],
   "source": [
    "imputer_nova_group = regression_imputer('nova_group', data, cols_quantity_full, DecisionTreeClassifier, integers=True)"
   ]
  },
  {
   "cell_type": "code",
   "execution_count": 61,
   "id": "556facc7",
   "metadata": {},
   "outputs": [
    {
     "name": "stdout",
     "output_type": "stream",
     "text": [
      "On a 387861 individus pour créer la régression de la variable 'nova_group'\n",
      "Regression utilisée: DecisionTreeClassifier()\n",
      "1 - R^2 = 0.215642 \n"
     ]
    }
   ],
   "source": [
    "regression_imputer('nova_group', data,\n",
    "                   cols_quantity_full.append(pd.Index(['additives_n', 'ingredients_from_palm_oil_n'])),\n",
    "                   DecisionTreeClassifier, integers=True)"
   ]
  },
  {
   "cell_type": "code",
   "execution_count": 62,
   "id": "fe783369",
   "metadata": {},
   "outputs": [
    {
     "name": "stderr",
     "output_type": "stream",
     "text": [
      "/tmp/ipykernel_11804/3937997819.py:8: SettingWithCopyWarning: \n",
      "A value is trying to be set on a copy of a slice from a DataFrame.\n",
      "Try using .loc[row_indexer,col_indexer] = value instead\n",
      "\n",
      "See the caveats in the documentation: https://pandas.pydata.org/pandas-docs/stable/user_guide/indexing.html#returning-a-view-versus-a-copy\n",
      "  xtrain[var_name] = ytrain\n",
      "/tmp/ipykernel_11804/3937997819.py:26: SettingWithCopyWarning: \n",
      "A value is trying to be set on a copy of a slice from a DataFrame.\n",
      "Try using .loc[row_indexer,col_indexer] = value instead\n",
      "\n",
      "See the caveats in the documentation: https://pandas.pydata.org/pandas-docs/stable/user_guide/indexing.html#returning-a-view-versus-a-copy\n",
      "  xtest[var_name] = [np.nan]*len(ytest)\n"
     ]
    },
    {
     "name": "stdout",
     "output_type": "stream",
     "text": [
      "1 - R^2 = 0.60 en utilisant les moyennes par catégorie pour nova_group\n"
     ]
    },
    {
     "data": {
      "text/plain": [
       "<function __main__.means_imputer.<locals>.impute_individual(x)>"
      ]
     },
     "execution_count": 62,
     "metadata": {},
     "output_type": "execute_result"
    }
   ],
   "source": [
    "means_imputer('nova_group', data, integers=True)"
   ]
  },
  {
   "cell_type": "markdown",
   "id": "e3ec9798",
   "metadata": {},
   "source": [
    "On enregistre les imputers retenus dans un dictionnaire."
   ]
  },
  {
   "cell_type": "code",
   "execution_count": 121,
   "id": "dda8971e",
   "metadata": {},
   "outputs": [],
   "source": [
    "# imputers: Dictionnaire des imputers pour chaque colonne à imputer.\n",
    "imputers={\n",
    "    'additives_n': imputer_additives,\n",
    "    'ingredients_from_palm_oil_n': imputer_palm_oil,\n",
    "    'ecoscore_score_fr': imputer_ecoscore,\n",
    "    'fiber_100g': imputer_fiber,\n",
    "    'serving_quantity': imputer_serving_quantity,\n",
    "    'nova_group': imputer_nova_group\n",
    "}"
   ]
  },
  {
   "cell_type": "code",
   "execution_count": 122,
   "id": "a95655ab",
   "metadata": {},
   "outputs": [],
   "source": [
    "has_int_values={\n",
    "    'additives_n': True,\n",
    "    'ingredients_from_palm_oil_n': True,\n",
    "    'ecoscore_score_fr': True,\n",
    "    'fiber_100g': False,\n",
    "    'serving_quantity': False,\n",
    "    'nova_group': True\n",
    "}"
   ]
  },
  {
   "cell_type": "code",
   "execution_count": 131,
   "id": "49dc3c28",
   "metadata": {},
   "outputs": [],
   "source": [
    "limits = {\n",
    "    'additives_n': (0, data['additives_n'].max()*2),\n",
    "    'ingredients_from_palm_oil_n': (0, data['ingredients_from_palm_oil_n'].max()*2),\n",
    "    'ecoscore_score_fr': (-30, 100),\n",
    "    'fiber_100g': (0, 100),\n",
    "    'serving_quantity': (0, 20000),\n",
    "    'nova_group': (1, 4)\n",
    "}"
   ]
  },
  {
   "cell_type": "code",
   "execution_count": 132,
   "id": "bd9b0b01",
   "metadata": {},
   "outputs": [],
   "source": [
    "def set_in_bounderies(bounderies, x):\n",
    "    if not (bounderies[0] is None):\n",
    "        x = max(bounderies[0], x)\n",
    "    if not (bounderies[1] is None):\n",
    "        x = min(bounderies[1], x)\n",
    "    return x"
   ]
  },
  {
   "cell_type": "markdown",
   "id": "52163a89",
   "metadata": {},
   "source": [
    "### Utilisation des imputers"
   ]
  },
  {
   "cell_type": "code",
   "execution_count": 133,
   "id": "c909f66a",
   "metadata": {},
   "outputs": [],
   "source": [
    "data_imputed = data.copy()"
   ]
  },
  {
   "cell_type": "code",
   "execution_count": 134,
   "id": "d63225de",
   "metadata": {},
   "outputs": [],
   "source": [
    "imputer_types = [BayesianRidge, neighbors.KNeighborsRegressor, neighbors.KNeighborsClassifier,\n",
    "                 DecisionTreeClassifier, DecisionTreeRegressor]"
   ]
  },
  {
   "cell_type": "code",
   "execution_count": 135,
   "id": "c450ae35",
   "metadata": {},
   "outputs": [],
   "source": [
    "def impute(imputer, cols_imputer, var_name, data):\n",
    "    \"\"\"Etant donné un imputer, les données en entrée/sortie, remplie les valeurs manquantes d'une colonne\"\"\"\n",
    "    data_empty = data[data[var_name].isna()]\n",
    "    if not data_empty.empty:  # S'il y à des données manquantes\n",
    "        if type(imputer) in imputer_types:\n",
    "            prediction = imputer.predict(data_empty[cols_imputer])\n",
    "        else:\n",
    "            prediction = imputer.predict(data_empty[cols_imputer.append(cols_quality)])\n",
    "        prediction = pd.Series(prediction, index=data_empty.index)\n",
    "        set_limits = lambda x: set_in_bounderies(limits[var_name], x)\n",
    "        prediction = prediction.map(set_limits)\n",
    "        if has_int_values[var_name]:\n",
    "            prediction = prediction.map(round)\n",
    "        var_values = data[~data[var_name].isna()][var_name]\n",
    "        data[var_name] = prediction.append(var_values)"
   ]
  },
  {
   "cell_type": "markdown",
   "id": "3462607e",
   "metadata": {},
   "source": [
    "On impute chacune des variables pour lesquelles c'est nécessaire."
   ]
  },
  {
   "cell_type": "code",
   "execution_count": 136,
   "id": "6a31d018",
   "metadata": {},
   "outputs": [],
   "source": [
    "# var_name: Nom de la variable à imputer.\n",
    "for var_name in cols_to_impute:\n",
    "    impute(imputers[var_name], cols_quantity_full, var_name, data_imputed)"
   ]
  },
  {
   "cell_type": "markdown",
   "id": "b8a01f46",
   "metadata": {},
   "source": [
    "## Résultats du nettoyage"
   ]
  },
  {
   "cell_type": "markdown",
   "id": "f1dd070a",
   "metadata": {},
   "source": [
    "On supprime le reste des individus avec des valeurs manquantes."
   ]
  },
  {
   "cell_type": "code",
   "execution_count": 137,
   "id": "4bac94b7",
   "metadata": {},
   "outputs": [
    {
     "name": "stdout",
     "output_type": "stream",
     "text": [
      "Au final, on a une base de données complète pour 70299 individus pour les variables traitées\n",
      "Avec imputation, la base de données contient 590357 individus\n"
     ]
    }
   ],
   "source": [
    "data_ = data.dropna(subset=cols_quantity)\n",
    "data_imputed = data_imputed.dropna(subset=cols_quantity)\n",
    "print(\"Au final, on a une base de données complète pour %d individus pour les variables traitées\" % len(data_))\n",
    "print(\"Avec imputation, la base de données contient %d individus\" % len(data_imputed))"
   ]
  },
  {
   "cell_type": "code",
   "execution_count": 138,
   "id": "3d44e577",
   "metadata": {},
   "outputs": [],
   "source": [
    "data_imputed.to_csv(\"data_cleaned_imputed.csv\", sep='\\t')"
   ]
  }
 ],
 "metadata": {
  "kernelspec": {
   "display_name": "env_p3",
   "language": "python",
   "name": "env_p3"
  },
  "language_info": {
   "codemirror_mode": {
    "name": "ipython",
    "version": 3
   },
   "file_extension": ".py",
   "mimetype": "text/x-python",
   "name": "python",
   "nbconvert_exporter": "python",
   "pygments_lexer": "ipython3",
   "version": "3.9.6"
  }
 },
 "nbformat": 4,
 "nbformat_minor": 5
}
